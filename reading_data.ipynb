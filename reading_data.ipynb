{
 "cells": [
  {
   "cell_type": "markdown",
   "metadata": {},
   "source": [
    "### Reading EEG"
   ]
  },
  {
   "cell_type": "code",
   "execution_count": 4,
   "metadata": {},
   "outputs": [],
   "source": [
    "import numpy as np\n",
    "from neo.io import RawBinarySignalIO\n",
    "\n",
    "\n",
    "def read_eeg_file(file_name: str, num_channels: int = 11,\n",
    "                   sampling_rate: int = 1250, dtype: str = 'int16') -> np.array:\n",
    "    \"\"\"\n",
    "    Read our EEG file using Neo library into Numpy array \n",
    "    (dtype here is NOT the dtype of resulting array), leave it as default\n",
    "    \"\"\"\n",
    "    reader = RawBinarySignalIO(filename=file_name, sampling_rate=sampling_rate,\n",
    "                            nb_channel=num_channels, dtype=dtype)\n",
    "    all_data = reader.read()\n",
    "    assert len(all_data) == 1\n",
    "    block = all_data[0]\n",
    "\n",
    "    # Extract the first segment and signal\n",
    "    assert len(block.segments) == 1\n",
    "    segment = block.segments[0]  # Get Segment (continuous recording)\n",
    "\n",
    "    \"\"\"Get specific type of recording EEG\n",
    "    |  several continuous, analog signals that\n",
    "    |  have the same duration, sampling rate and start time.\n",
    "    |  Basically, it is a 2D array: dim 0 is time, dim 1 is\n",
    "    |  channel index\n",
    "    \"\"\"\n",
    "    assert len(segment.analogsignals) == 1, f\"maybe path is not correct, found signals: {len(segment.analogsignals)}\"\n",
    "    analog_signal = segment.analogsignals[0]\n",
    "    signal = analog_signal.magnitude\n",
    "    \n",
    "    return signal"
   ]
  },
  {
   "cell_type": "markdown",
   "metadata": {},
   "source": [
    "### Reading records"
   ]
  },
  {
   "cell_type": "code",
   "execution_count": 5,
   "metadata": {},
   "outputs": [],
   "source": [
    "import re\n",
    "from collections import defaultdict\n",
    "\n",
    "\n",
    "def map_seconds_to_indices(time_intervals: tuple, sampling_rate: int = 1250) -> list:\n",
    "    \"\"\"\n",
    "    Convert time intervals in seconds to indices based on a sampling rate.\n",
    "\n",
    "    :param time_intervals: List of tuples representing time intervals in seconds.\n",
    "    :param sampling_rate: Sampling rate in Hz.\n",
    "    :return: List of tuples representing index intervals.\n",
    "    \"\"\"\n",
    "    return [\n",
    "        (int(start * sampling_rate), int(end * sampling_rate))\n",
    "        for start, end in time_intervals\n",
    "    ]\n",
    "\n",
    "\n",
    "def parse_record(record: str) -> dict:\n",
    "    \"\"\"Read record as string and convert it to dict\"\"\"\n",
    "    result = {\n",
    "        'Fname': None,\n",
    "        'SP': None,\n",
    "        'SO': None,\n",
    "        'SR': None,\n",
    "        'SLM': None,\n",
    "        'HF': None,\n",
    "        'DG': None,\n",
    "        'LS': None,\n",
    "        'PFC': None,\n",
    "        'EEG': None,\n",
    "        'EMG': None,\n",
    "        'QualitySignal': None,\n",
    "    }\n",
    "\n",
    "    # Extract fields using individual patterns\n",
    "    patterns = {\n",
    "        'Fname': re.compile(r\"\\.Fname='(.+?)';\"),\n",
    "        'SP': re.compile(r\"\\.SP=\\[(.*?)\\];\"),\n",
    "        'SO': re.compile(r\"\\.SO=\\[(.*?)\\];\"),\n",
    "        'SR': re.compile(r\"\\.SR=\\[(.*?)\\];\"),\n",
    "        'SLM': re.compile(r\"\\.SLM=\\[(.*?)\\];\"),\n",
    "        'HF': re.compile(r\"\\.HF=\\[(.*?)\\];\"),\n",
    "        'DG': re.compile(r\"\\.DG=\\[(.*?)\\];\"),\n",
    "        'LS': re.compile(r\"\\.LS=\\[(.*?)\\];\"),\n",
    "        'PFC': re.compile(r\"\\.PFC=\\[(.*?)\\];\"),\n",
    "        'EEG': re.compile(r\"\\.EEG=\\[(.*?)\\];\"),\n",
    "        'EMG': re.compile(r\"\\.EMG=\\[(.*?)\\];\"),\n",
    "        'QualitySignal': re.compile(r\"\\.QualitySignal=\\[(.*?)\\];\"),\n",
    "    }\n",
    "\n",
    "    for field, pattern in patterns.items():\n",
    "        match = pattern.search(record)\n",
    "        if match:\n",
    "            values = match.group(1).strip()\n",
    "            if field == 'Fname':\n",
    "                result[field] = values  # Keep as a string\n",
    "            elif field == 'QualitySignal' and values:\n",
    "                # Handle semicolon-delimited lists for QualitySignal\n",
    "                intervals = [\n",
    "                    tuple([float(x) for x in sublist.split()])\n",
    "                    for sublist in values.split(';')\n",
    "                ]\n",
    "                result[field] = map_seconds_to_indices(intervals)\n",
    "            elif values:  # Only process non-empty lists\n",
    "                # Convert string representation of list to Python list\n",
    "                result[field] = [float(v) if '.' in v else int(v) for v in values.split()]\n",
    "\n",
    "    return result\n",
    "\n",
    "\n",
    "def parse_recording_metadata(file_path, return_all_classes=True):\n",
    "    \"\"\"\n",
    "    Read recording file and return them and\n",
    "    (oprionally) all signal types that could be seen there\n",
    "    \"\"\"\n",
    "    with open(file_path, 'r') as file:\n",
    "        data = file.read()\n",
    "\n",
    "    # Split the data into records based on blank lines\n",
    "    records = [rec.strip() for rec in data.split(\"\\n\\n\") if rec.strip()]\n",
    "\n",
    "    # Parse each record\n",
    "    parsed_records = [parse_record(record) for record in records]\n",
    "    num_records = defaultdict(int)\n",
    "\n",
    "    if return_all_classes:\n",
    "        for record in parsed_records:\n",
    "            for key, value in record.items():\n",
    "                if value is not None and key != \"Fname\" and key != 'QualitySignal':\n",
    "                    num_records[key] += len(value)\n",
    "\n",
    "        classes = num_records.keys()\n",
    "        return parsed_records, list(classes)\n",
    "    else:\n",
    "        return parsed_records"
   ]
  },
  {
   "cell_type": "markdown",
   "metadata": {},
   "source": [
    "### Convert eeg format to numpy bin files and store on WSL (don't run if it was done already)"
   ]
  },
  {
   "cell_type": "code",
   "execution_count": 6,
   "metadata": {},
   "outputs": [],
   "source": [
    "import os\n",
    "from tqdm import tqdm\n",
    "from scipy.signal import decimate\n",
    "\n",
    "CONVERTED_FOLDER_PATH = \"/home/Aziz\"\n",
    "ORIGINAL_FOLDER_PATH = '/mnt/c/Aziz/EEG/'\n",
    "DOWNSAMPLING_FACTOR = 10"
   ]
  },
  {
   "cell_type": "code",
   "execution_count": 4,
   "metadata": {},
   "outputs": [
    {
     "name": "stderr",
     "output_type": "stream",
     "text": [
      "100%|██████████| 137/137 [13:59<00:00,  6.13s/it]\n"
     ]
    }
   ],
   "source": [
    "metadata_path = '/mnt/c/Aziz/EEG/SelectionForML.txt'\n",
    "recordings, CLASSES = parse_recording_metadata(metadata_path, return_all_classes=True)\n",
    "\n",
    "# Convert to numpy and save them at Linux WSL folder\n",
    "signal_paths = []\n",
    "for record in tqdm(recordings):\n",
    "    signal_path = ORIGINAL_FOLDER_PATH + record['Fname']\n",
    "    signal = read_eeg_file(signal_path)\n",
    "    for label in CLASSES:\n",
    "        if record[label]:\n",
    "            for channel_num in record[label]:\n",
    "                file_name = os.path.basename(signal_path).replace(\".eeg\", \"\") + f\"ch{channel_num}_{label}\"\n",
    "                output_path = os.path.join(CONVERTED_FOLDER_PATH, f\"{file_name}.npy\")\n",
    "\n",
    "                signal_channel = signal[:, channel_num]\n",
    "\n",
    "                # Downsample the signal and ensure it's contiguous\n",
    "                signal_channel = decimate(signal_channel, DOWNSAMPLING_FACTOR, axis=0)  # Apply low-pass filtering\n",
    "                signal_channel = np.ascontiguousarray(signal_channel)  # Ensure no negative strides\n",
    "\n",
    "                # Save as .npy file in the output directory\n",
    "                np.save(output_path, signal_channel)"
   ]
  },
  {
   "cell_type": "markdown",
   "metadata": {},
   "source": [
    "### Creating Dataset and Data Loader"
   ]
  },
  {
   "cell_type": "code",
   "execution_count": 7,
   "metadata": {},
   "outputs": [],
   "source": [
    "import numpy as np\n",
    "import torch\n",
    "import os\n",
    "import random\n",
    "from collections import Counter\n",
    "from sklearn.preprocessing import LabelEncoder\n",
    "from torch.utils.data import Dataset, DataLoader\n",
    "from torch.nn.utils.rnn import pad_sequence\n",
    "\n",
    "CUT_LENGTH = 1024  # num of samples to cut out of whole sample to train on"
   ]
  },
  {
   "cell_type": "code",
   "execution_count": 8,
   "metadata": {},
   "outputs": [],
   "source": [
    "class EEGDataset(Dataset):\n",
    "    def __init__(self, directory_path: list, recordings: list,\n",
    "                 label_encoder: LabelEncoder, max_length: int = CUT_LENGTH,\n",
    "                 balance_data: bool = True):\n",
    "        \"\"\"\n",
    "        Args:\n",
    "            max_length: indicates length of randomly samples part of signal\n",
    "            that we will take, since size of the whole signal is too long\n",
    "        \"\"\"\n",
    "        self.directory_path = directory_path\n",
    "        self.recordings_info = recordings\n",
    "        self.label_encoder = label_encoder\n",
    "        self.max_length = max_length\n",
    "\n",
    "        # List to store the file paths and labels\n",
    "        paths_and_labels = []\n",
    "        for root, _, files in os.walk(directory_path):\n",
    "            for file in files:\n",
    "                if file.endswith(\".npy\"):\n",
    "                    label = file.split(\"_\")[-1].replace(\".npy\", \"\")\n",
    "                    file_path = os.path.join(root, file)\n",
    "                    paths_and_labels.append((file_path, label))\n",
    "\n",
    "        if balance_data:\n",
    "            paths_and_labels = self._balance_dataset(paths_and_labels)\n",
    "\n",
    "        self.paths_and_labels = paths_and_labels\n",
    "\n",
    "    def _balance_dataset(self, paths_and_labels, target_samples=50, tolerance=10):\n",
    "        \"\"\"\n",
    "        Balance the dataset by ensuring each class has between\n",
    "        (target_samples - tolerance) and (target_samples + tolerance) samples.\n",
    "        \"\"\"\n",
    "        lower_bound = target_samples - tolerance\n",
    "        upper_bound = target_samples + tolerance\n",
    "        labels = [label for _, label in paths_and_labels]\n",
    "        self.label_counts = Counter(labels)\n",
    "\n",
    "        balanced_data = []\n",
    "        for label, count in self.label_counts.items():\n",
    "            samples = [item for item in paths_and_labels if item[1] == label]\n",
    "\n",
    "            if count < lower_bound:  # Oversample by duplicating existing samples\n",
    "                oversampled = random.choices(samples, k=target_samples)\n",
    "                balanced_data.extend(oversampled)\n",
    "            elif count > upper_bound:  # Undersample by removing samples\n",
    "                undersampled = random.sample(samples, k=target_samples)\n",
    "                balanced_data.extend(undersampled)\n",
    "            else:  # Keep the samples as is if within bounds\n",
    "                balanced_data.extend(samples)\n",
    "\n",
    "        return balanced_data\n",
    "\n",
    "    @staticmethod\n",
    "    def random_sample(signal, sample_size):\n",
    "        \"\"\"take random cut from sample\"\"\"\n",
    "        if len(signal) <= sample_size:\n",
    "            return signal\n",
    "        start_idx = random.randint(0, len(signal) - sample_size)\n",
    "        return signal[start_idx:start_idx + sample_size]\n",
    "\n",
    "    def __len__(self):\n",
    "        return len(self.paths_and_labels)\n",
    "    \n",
    "    def __getitem__(self, idx):\n",
    "        file_path = self.paths_and_labels[idx][0]\n",
    "        label = self.paths_and_labels[idx][1]\n",
    "\n",
    "        recording_arr = np.load(file_path)  # Shape: (num_samples, 1)\n",
    "        \n",
    "        signal_data = self.random_sample(signal=recording_arr,\n",
    "                                        sample_size=self.max_length\n",
    "                                        )  # Randomly cut signal to needed size\n",
    "        signal_data = torch.tensor(signal_data).unsqueeze(0)\n",
    "\n",
    "        label = self.label_encoder.transform([label])\n",
    "\n",
    "        return torch.tensor(signal_data, dtype=torch.float32), torch.tensor(label, dtype=torch.long)"
   ]
  },
  {
   "cell_type": "code",
   "execution_count": 9,
   "metadata": {},
   "outputs": [],
   "source": [
    "metadata_path = '/mnt/c/Aziz/EEG/SelectionForML.txt'\n",
    "recordings, CLASSES = parse_recording_metadata(metadata_path, return_all_classes=True)\n",
    "\n",
    "# Encode labels\n",
    "label_encoder = LabelEncoder()\n",
    "label_encoder.fit(CLASSES)\n",
    "\n",
    "dataset = EEGDataset(CONVERTED_FOLDER_PATH, recordings, label_encoder)"
   ]
  },
  {
   "cell_type": "code",
   "execution_count": 10,
   "metadata": {},
   "outputs": [],
   "source": [
    "def collate_fn(batch):\n",
    "    \"\"\"\n",
    "    Custom collate function to stack signals directly, assuming each signal has only one channel.\n",
    "    \"\"\"\n",
    "    all_signals = []\n",
    "    all_labels = []\n",
    "\n",
    "    for signals, labels in batch:\n",
    "        # Append the single-channel signals and their labels directly\n",
    "        all_signals.append(signals)  # Shape: (num_samples,)\n",
    "        all_labels.append(labels)   # Corresponding label\n",
    "\n",
    "    # Pad signals to the maximum length in the batch\n",
    "    padded_signals = pad_sequence(\n",
    "        [torch.tensor(signal) for signal in all_signals],\n",
    "        batch_first=True\n",
    "    )  # Shape: (batch_size, max_length)\n",
    "\n",
    "    return padded_signals, torch.tensor(all_labels, dtype=torch.long)\n",
    "\n",
    "\n",
    "data_loader = DataLoader(dataset, batch_size=32, shuffle=True, collate_fn=collate_fn, drop_last=True)"
   ]
  },
  {
   "cell_type": "markdown",
   "metadata": {},
   "source": [
    "### Train"
   ]
  },
  {
   "cell_type": "code",
   "execution_count": 23,
   "metadata": {},
   "outputs": [],
   "source": [
    "import torch\n",
    "import torch.nn as nn\n",
    "import torch.optim as optim\n",
    "\n",
    "from tsai.models.PatchTST import PatchTST\n",
    "from tsai.all import TSClassification, TSStandardize, get_ts_dls, Learner, build_ts_model, accuracy, ShowGraph\n",
    "from fastai.callback.tracker import SaveModelCallback\n",
    "\n",
    "from sklearn.metrics import confusion_matrix, ConfusionMatrixDisplay\n",
    "from sklearn.metrics import accuracy_score"
   ]
  },
  {
   "cell_type": "markdown",
   "metadata": {},
   "source": [
    "### Train with tsai"
   ]
  },
  {
   "cell_type": "code",
   "execution_count": 9,
   "metadata": {},
   "outputs": [
    {
     "name": "stderr",
     "output_type": "stream",
     "text": [
      "100%|██████████| 195/195 [00:50<00:00,  3.89it/s]\n"
     ]
    }
   ],
   "source": [
    "\"\"\"DATA PREPARATION FOR TSAI\"\"\"\n",
    "# Extract data from DataLoader\n",
    "# X, y = [], []\n",
    "# for batch_samples, batch_labels in tqdm(data_loader):\n",
    "#     X.append(batch_samples)\n",
    "#     y.append(batch_labels)\n",
    "\n",
    "# X = torch.cat(X)  # Combine batches: shape (total_samples, num_channels, sequence_length)\n",
    "# y = torch.cat(y)  # Combine labels: shape (total_samples,)\n",
    "\n",
    "# X = X.unsqueeze(1)  # New shape: (num_samples, 1, max_length)"
   ]
  },
  {
   "cell_type": "code",
   "execution_count": 19,
   "metadata": {},
   "outputs": [],
   "source": [
    "# from sklearn.model_selection import train_test_split\n",
    "# # Get the indices for splits\n",
    "# n_samples = len(X)  # Total number of samples\n",
    "# indices = np.arange(n_samples)\n",
    "\n",
    "# # Perform the same split but keep indices\n",
    "# train_indices, test_indices = train_test_split(indices, test_size=0.2, random_state=42)\n",
    "# splits = (list(train_indices), list(test_indices))\n",
    "\n",
    "# tfms  = [None, TSClassification()] # TSClassification == Categorize\n",
    "# batch_tfms = TSStandardize()\n",
    "# dls = get_ts_dls(X, y, splits=splits, tfms=tfms, batch_tfms=batch_tfms, bs=[4, 4])\n",
    "# dls.dataset"
   ]
  },
  {
   "cell_type": "code",
   "execution_count": null,
   "metadata": {},
   "outputs": [],
   "source": [
    "# model = build_ts_model(PatchTST, dls=dls)\n",
    "# learn = Learner(dls, model, metrics=accuracy)"
   ]
  },
  {
   "cell_type": "code",
   "execution_count": 22,
   "metadata": {},
   "outputs": [
    {
     "data": {
      "text/plain": [
       "<fastai.learner.Learner at 0x7fdb0b490e00>"
      ]
     },
     "execution_count": 22,
     "metadata": {},
     "output_type": "execute_result"
    }
   ],
   "source": [
    "# learn = Learner(dls, model, metrics=accuracy, cbs=ShowGraph())\n",
    "# learn.load('best_model_new')"
   ]
  },
  {
   "cell_type": "code",
   "execution_count": null,
   "metadata": {},
   "outputs": [],
   "source": [
    "# learn.fit_one_cycle(100, lr_max=1e-7, cbs=SaveModelCallback(fname='best_model_new2'))"
   ]
  },
  {
   "cell_type": "markdown",
   "metadata": {},
   "source": [
    "### Train with Pytorch"
   ]
  },
  {
   "cell_type": "code",
   "execution_count": 12,
   "metadata": {},
   "outputs": [],
   "source": [
    "class PatchTSTClassifier(nn.Module):\n",
    "    def __init__(self, c_in, c_out, seq_len, n_layers=3, d_model=128, n_heads=4, conv_channels=64, num_conv_layers=4):\n",
    "        \"\"\"\n",
    "        Args:\n",
    "            c_in: Number of input channels.\n",
    "            c_out: Number of output classes.\n",
    "            seq_len: Length of input sequences.\n",
    "            n_layers: Number of transformer layers in PatchTST.\n",
    "            d_model: Embedding dimension for PatchTST.\n",
    "            n_heads: Number of attention heads in PatchTST.\n",
    "            conv_channels: Number of channels for convolutional layers in the classification head.\n",
    "            num_conv_layers: Number of convolutional layers in the classification head.\n",
    "        \"\"\"\n",
    "        super().__init__()\n",
    "        # PatchTST backbone\n",
    "        self.backbone = PatchTST(c_in=c_in, c_out=c_out, seq_len=seq_len, n_layers=n_layers, n_heads=n_heads, d_model=d_model)\n",
    "        \n",
    "        # Classification head with convolutional layers\n",
    "        layers = []\n",
    "        in_channels = c_in  # Output channels of PatchTST backbone (same as input)\n",
    "        for i in range(num_conv_layers):\n",
    "            layers.append(nn.Conv1d(in_channels, conv_channels, kernel_size=3, stride=2, padding=1))\n",
    "            layers.append(nn.BatchNorm1d(conv_channels))\n",
    "            layers.append(nn.ReLU())\n",
    "            layers.append(nn.Dropout(0.1))  # Optional dropout for regularization\n",
    "            in_channels = conv_channels\n",
    "        self.conv_head = nn.Sequential(*layers)\n",
    "        \n",
    "        # Global Average Pooling and Fully Connected layer\n",
    "        self.gap = nn.AdaptiveAvgPool1d(1)  # Reduce sequence length to 1\n",
    "        self.fc = nn.Linear(conv_channels, c_out)  # Final classification layer\n",
    "\n",
    "    def forward(self, x):\n",
    "        \"\"\"Forward pass.\"\"\"\n",
    "        x = self.backbone(x)  # Output shape: [batch_size, d_model, seq_len]\n",
    "        x = self.conv_head(x)  # Shape: [batch_size, conv_channels, reduced_seq_len]\n",
    "        x = self.gap(x).squeeze(-1)  # Shape: [batch_size, conv_channels]\n",
    "        x = self.fc(x)  # Shape: [batch_size, c_out]\n",
    "        return x\n"
   ]
  },
  {
   "cell_type": "code",
   "execution_count": 13,
   "metadata": {},
   "outputs": [],
   "source": [
    "model = PatchTSTClassifier(\n",
    "    c_in=1,             # Input channels (e.g., 1 for univariate signals)\n",
    "    c_out=len(CLASSES), # Number of output classes\n",
    "    seq_len=CUT_LENGTH,       # Input sequence length\n",
    "    n_layers=12,         # Transformer layers in PatchTST\n",
    "    d_model=512,        # Embedding dimension of PatchTST\n",
    "    n_heads=16,         # Attention heads\n",
    "    conv_channels=256,  # Channels in classification head\n",
    "    num_conv_layers=6   # Number of convolutional layers\n",
    ")\n",
    "device = torch.device(\"cuda\" if torch.cuda.is_available() else \"cpu\")\n",
    "model = model.to(device)"
   ]
  },
  {
   "cell_type": "code",
   "execution_count": 44,
   "metadata": {},
   "outputs": [],
   "source": [
    "criterion = nn.CrossEntropyLoss()\n",
    "optimizer = optim.Adam(model.parameters(), lr=1e-5)"
   ]
  },
  {
   "cell_type": "code",
   "execution_count": 14,
   "metadata": {},
   "outputs": [],
   "source": [
    "class SaveBestModelCallback:\n",
    "    def __init__(self, save_path=\"best_model.pth\", monitor=\"loss\"):\n",
    "        \"\"\"\n",
    "        Args:\n",
    "            save_path: Path to save the best model.\n",
    "            monitor: Metric to monitor ('loss' or 'accuracy').\n",
    "        \"\"\"\n",
    "        self.save_path = save_path\n",
    "        self.monitor = monitor\n",
    "        self.best_value = float('inf') if monitor == \"loss\" else 0\n",
    "\n",
    "    def check_and_save(self, model, current_value):\n",
    "        \"\"\"\n",
    "        Save the model if the monitored metric improves.\n",
    "        Args:\n",
    "            model: The PyTorch model to save.\n",
    "            current_value: Current value of the monitored metric.\n",
    "        \"\"\"\n",
    "        is_better = (\n",
    "            current_value < self.best_value if self.monitor == \"loss\"\n",
    "            else current_value > self.best_value\n",
    "        )\n",
    "        if is_better:\n",
    "            self.best_value = current_value\n",
    "            torch.save(model.state_dict(), self.save_path)\n",
    "            print(f\"Best model saved with {self.monitor}: {current_value:.4f}\")\n",
    "\n",
    "# Initialize the callback\n",
    "save_best_model = SaveBestModelCallback(save_path=\"/home/user/Aziz/best_patchTCT.pth\", monitor=\"loss\")  # or monitor=\"accuracy\""
   ]
  },
  {
   "cell_type": "code",
   "execution_count": 14,
   "metadata": {},
   "outputs": [
    {
     "data": {
      "text/plain": [
       "<All keys matched successfully>"
      ]
     },
     "execution_count": 14,
     "metadata": {},
     "output_type": "execute_result"
    }
   ],
   "source": [
    "model.load_state_dict(torch.load(\"/home/user/Aziz/best_patchTCT.pth\"))"
   ]
  },
  {
   "cell_type": "code",
   "execution_count": null,
   "metadata": {},
   "outputs": [],
   "source": [
    "epochs = 100\n",
    "\n",
    "for epoch in range(epochs):\n",
    "    model.train()\n",
    "    running_loss = 0.0\n",
    "    correct = 0\n",
    "    total = 0\n",
    "\n",
    "    for inputs, labels in data_loader:\n",
    "        inputs, labels = inputs.to(device), labels.squeeze().to(device)\n",
    "\n",
    "        outputs = model(inputs)\n",
    "        loss = criterion(outputs, labels)\n",
    "\n",
    "        optimizer.zero_grad()\n",
    "        loss.backward()\n",
    "        optimizer.step()\n",
    "\n",
    "        running_loss += loss.item()\n",
    "        _, predicted = outputs.max(1)\n",
    "        total += labels.size(0)\n",
    "        correct += (predicted == labels).sum().item()\n",
    "\n",
    "    epoch_loss = running_loss / len(data_loader)\n",
    "    epoch_acc = 100. * correct / total\n",
    "\n",
    "    print(f\"Epoch {epoch+1}/{epochs} - Loss: {epoch_loss:.4f}, Accuracy: {epoch_acc:.2f}%\")\n",
    "\n",
    "    save_best_model.check_and_save(model, epoch_loss if save_best_model.monitor == \"loss\" else epoch_acc)\n"
   ]
  },
  {
   "cell_type": "markdown",
   "metadata": {},
   "source": [
    "### Validate"
   ]
  },
  {
   "cell_type": "code",
   "execution_count": 48,
   "metadata": {},
   "outputs": [
    {
     "data": {
      "text/plain": [
       "<sklearn.metrics._plot.confusion_matrix.ConfusionMatrixDisplay at 0x7fb86cd87860>"
      ]
     },
     "execution_count": 48,
     "metadata": {},
     "output_type": "execute_result"
    },
    {
     "data": {
      "image/png": "[encoded data removed]",
      "text/plain": [
       "<Figure size 640x480 with 2 Axes>"
      ]
     },
     "metadata": {},
     "output_type": "display_data"
    }
   ],
   "source": [
    "\n",
    "all_preds = []\n",
    "all_labels = []\n",
    "\n",
    "# Example during validation\n",
    "model.eval()  # Switch to evaluation mode\n",
    "with torch.no_grad():\n",
    "    for inputs, labels in data_loader:  # Use your validation DataLoader\n",
    "        inputs, labels = inputs.to(device), labels.to(device)\n",
    "\n",
    "        outputs = model(inputs)\n",
    "        preds = torch.argmax(outputs, dim=1)  # Get predicted class indices\n",
    "        all_preds.extend(preds.cpu().numpy())\n",
    "        all_labels.extend(labels.cpu().numpy())\n",
    "\n",
    "# Compute the confusion matrix\n",
    "cm = confusion_matrix(all_labels, all_preds)\n",
    "\n",
    "# Display the confusion matrix\n",
    "disp = ConfusionMatrixDisplay(confusion_matrix=cm, display_labels=label_encoder.classes_)\n",
    "disp.plot(cmap=\"viridis\")"
   ]
  },
  {
   "cell_type": "markdown",
   "metadata": {},
   "source": [
    "### Validation via aggregating classifications (since we cannot classify whole 30 minutes sample, we need to classify small parts of it)"
   ]
  },
  {
   "cell_type": "code",
   "execution_count": 34,
   "metadata": {},
   "outputs": [],
   "source": [
    "def classify_full_signal(model, signal, seq_len=CUT_LENGTH, threshold=0., device='cuda'):\n",
    "    \"\"\"\n",
    "    Classify a full signal by dividing it into non-overlapping chunks, \n",
    "    running the model on each chunk, and aggregating predictions based on a threshold.\n",
    "\n",
    "    Args:\n",
    "        model (nn.Module): Trained model for classification.\n",
    "        signal (np.array): Input signal of shape (num_samples,).\n",
    "        seq_len (int): Length of the sliding window (chunk size).\n",
    "        threshold (float): Minimum probability for a chunk to contribute to the final prediction.\n",
    "        device (str): Device to run the model ('cpu' or 'cuda').\n",
    "\n",
    "    Returns:\n",
    "        int: Predicted class for the full signal.\n",
    "    \"\"\"\n",
    "    model.eval()  # Set model to evaluation mode\n",
    "    signal = torch.tensor(signal, dtype=torch.float32).unsqueeze(0)  # Shape: (1, num_samples)\n",
    "    chunks = []\n",
    "\n",
    "    # Divide the signal into non-overlapping chunks\n",
    "    for start in range(0, len(signal[0]), seq_len):\n",
    "        end = start + seq_len\n",
    "        if end > len(signal[0]):  # Skip incomplete chunks\n",
    "            break\n",
    "        chunk = signal[:, start:end].unsqueeze(1)  # Shape: (1, 1, seq_len)\n",
    "        chunks.append(chunk)\n",
    "\n",
    "    # Process each chunk with the model\n",
    "    all_predictions = []\n",
    "    for chunk in chunks:\n",
    "        chunk = chunk.to(device)\n",
    "        with torch.no_grad():\n",
    "            output = model(chunk)  # Output shape: (batch_size=1, num_classes)\n",
    "            probs = torch.softmax(output, dim=1)  # Get probabilities\n",
    "            max_prob = torch.max(probs).item()  # Maximum probability for the chunk\n",
    "            if max_prob >= threshold:  # Include only if above threshold\n",
    "                all_predictions.append(probs.cpu().numpy())  # Collect predictions\n",
    "\n",
    "    # Check if any predictions passed the threshold\n",
    "    if not all_predictions:\n",
    "        return -1  # Return an invalid class if no chunk passes the threshold\n",
    "\n",
    "    # Aggregate predictions (mean probabilities across selected chunks)\n",
    "    mean_predictions = np.mean(np.vstack(all_predictions), axis=0)  # Shape: (num_classes,)\n",
    "    predicted_class = np.argmax(mean_predictions)  # Get the class with the highest mean probability\n",
    "\n",
    "    return predicted_class"
   ]
  },
  {
   "cell_type": "code",
   "execution_count": 40,
   "metadata": {},
   "outputs": [
    {
     "name": "stderr",
     "output_type": "stream",
     "text": [
      "100%|██████████| 10/10 [00:28<00:00,  2.82s/it]\n",
      "100%|██████████| 10/10 [00:32<00:00,  3.27s/it]\n",
      "100%|██████████| 10/10 [00:32<00:00,  3.26s/it]\n",
      "100%|██████████| 10/10 [00:31<00:00,  3.16s/it]\n",
      "100%|██████████| 10/10 [00:32<00:00,  3.27s/it]\n",
      "100%|██████████| 10/10 [00:31<00:00,  3.18s/it]\n",
      "100%|██████████| 10/10 [00:33<00:00,  3.37s/it]\n"
     ]
    }
   ],
   "source": [
    "VALIDATION_NUM_SAMPLES = 10\n",
    "\n",
    "y_true = []\n",
    "y_predicted = []\n",
    "for label in CLASSES:\n",
    "    selected_paths = [p for p, l in dataset.paths_and_labels if l == label]\n",
    "    selected_paths = random.sample(selected_paths, min(VALIDATION_NUM_SAMPLES, len(selected_paths)))\n",
    "    for file_path in tqdm(selected_paths):\n",
    "        signal = np.load(file_path)\n",
    "        encoded_label = label_encoder.transform([label])[0]\n",
    "        predicted_label = classify_full_signal(model, signal, device='cuda')\n",
    "        y_true.append(label)\n",
    "        y_predicted.append(predicted_label)"
   ]
  },
  {
   "cell_type": "code",
   "execution_count": 41,
   "metadata": {},
   "outputs": [],
   "source": [
    "# If using threshold for classification, then remove '-1' classifications,\n",
    "#  that were not even once classified above threshold (in classify_full_signal function)\n",
    "true_y = []\n",
    "pred_y = []\n",
    "for t, p in zip(y_true, y_predicted):\n",
    "    if p != -1:\n",
    "        true_y.append(t)\n",
    "        pred_y.append(p)\n",
    "\n",
    "pred_y = label_encoder.inverse_transform(pred_y)\n",
    "\n",
    "cm = confusion_matrix(y_true=true_y, y_pred=pred_y)\n",
    "\n",
    "# Display the confusion matrix\n",
    "disp = ConfusionMatrixDisplay(confusion_matrix=cm, display_labels=label_encoder.classes_)\n",
    "disp.plot(cmap=\"viridis\")\n",
    "\n",
    "accuracy = accuracy_score(true_y, pred_y)\n",
    "print(accuracy)"
   ]
  },
  {
   "cell_type": "code",
   "execution_count": 43,
   "metadata": {},
   "outputs": [
    {
     "data": {
      "text/plain": [
       "<sklearn.metrics._plot.confusion_matrix.ConfusionMatrixDisplay at 0x7fdb94267d40>"
      ]
     },
     "execution_count": 43,
     "metadata": {},
     "output_type": "execute_result"
    },
    {
     "data": {
      "image/png": "[encoded data removed]",
      "text/plain": [
       "<Figure size 640x480 with 2 Axes>"
      ]
     },
     "metadata": {},
     "output_type": "display_data"
    }
   ],
   "source": []
  }
 ],
 "metadata": {
  "kernelspec": {
   "display_name": "venv",
   "language": "python",
   "name": "python3"
  },
  "language_info": {
   "codemirror_mode": {
    "name": "ipython",
    "version": 3
   },
   "file_extension": ".py",
   "mimetype": "text/x-python",
   "name": "python",
   "nbconvert_exporter": "python",
   "pygments_lexer": "ipython3",
   "version": "3.12.3"
  }
 },
 "nbformat": 4,
 "nbformat_minor": 2
}
